{
  "metadata": {
    "kernelspec": {
      "language": "python",
      "display_name": "Python 3",
      "name": "python3"
    },
    "language_info": {
      "name": "python",
      "version": "3.10.13",
      "mimetype": "text/x-python",
      "codemirror_mode": {
        "name": "ipython",
        "version": 3
      },
      "pygments_lexer": "ipython3",
      "nbconvert_exporter": "python",
      "file_extension": ".py"
    },
    "kaggle": {
      "accelerator": "none",
      "dataSources": [
        {
          "sourceId": 72632,
          "databundleVersionId": 8059709,
          "sourceType": "competition"
        }
      ],
      "dockerImageVersionId": 30684,
      "isInternetEnabled": false,
      "language": "python",
      "sourceType": "notebook",
      "isGpuEnabled": false
    },
    "colab": {
      "name": "notebook7b3083b3f3",
      "provenance": [],
      "include_colab_link": true
    }
  },
  "nbformat_minor": 0,
  "nbformat": 4,
  "cells": [
    {
      "cell_type": "markdown",
      "metadata": {
        "id": "view-in-github",
        "colab_type": "text"
      },
      "source": [
        "<a href=\"https://colab.research.google.com/github/ARNAB5671/cs253_python_assignment/blob/main/cs253_A3.ipynb\" target=\"_parent\"><img src=\"https://colab.research.google.com/assets/colab-badge.svg\" alt=\"Open In Colab\"/></a>"
      ]
    },
    {
      "source": [
        "\n",
        "# IMPORTANT: RUN THIS CELL IN ORDER TO IMPORT YOUR KAGGLE DATA SOURCES\n",
        "# TO THE CORRECT LOCATION (/kaggle/input) IN YOUR NOTEBOOK,\n",
        "# THEN FEEL FREE TO DELETE THIS CELL.\n",
        "# NOTE: THIS NOTEBOOK ENVIRONMENT DIFFERS FROM KAGGLE'S PYTHON\n",
        "# ENVIRONMENT SO THERE MAY BE MISSING LIBRARIES USED BY YOUR\n",
        "# NOTEBOOK.\n",
        "\n",
        "import os\n",
        "import sys\n",
        "from tempfile import NamedTemporaryFile\n",
        "from urllib.request import urlopen\n",
        "from urllib.parse import unquote, urlparse\n",
        "from urllib.error import HTTPError\n",
        "from zipfile import ZipFile\n",
        "import tarfile\n",
        "import shutil\n",
        "\n",
        "CHUNK_SIZE = 40960\n",
        "DATA_SOURCE_MAPPING = 'who-is-the-real-winner:https%3A%2F%2Fstorage.googleapis.com%2Fkaggle-competitions-data%2Fkaggle-v2%2F72632%2F8059709%2Fbundle%2Farchive.zip%3FX-Goog-Algorithm%3DGOOG4-RSA-SHA256%26X-Goog-Credential%3Dgcp-kaggle-com%2540kaggle-161607.iam.gserviceaccount.com%252F20240421%252Fauto%252Fstorage%252Fgoog4_request%26X-Goog-Date%3D20240421T212956Z%26X-Goog-Expires%3D259200%26X-Goog-SignedHeaders%3Dhost%26X-Goog-Signature%3D2772c06e4a696239b37a17ec896bee2dd942c3d68d750be9d91dbd2816a5a305c33224596ebdd3bcf68f3b1f1325c4735c2fdf2ee9303d39f3964e0de6bed533c7a2a91c716504af7ff21c884889d95c9b9bc2f6b14f53e72fd052ee15de057696c811914cf689a842b8d54c43f512afd59bda3e9ff2b33aceb450e20b8a3c177a6f4268457d647884bb73a4e763e951b474cbf94eef5b4c68cb2cc631b66062f612a09131e08a68004422531edd6ad282aadff379f6dc1e8bc79ee0beb0f23ece90a33a34f65c97138104b60f3e18534740b1c41a2af8ab20d14eb17ebb520caadb5db3915bb7cfd3ddfc9fd94d1f5263e608b493faeff71439b84635e27021'\n",
        "\n",
        "KAGGLE_INPUT_PATH='/kaggle/input'\n",
        "KAGGLE_WORKING_PATH='/kaggle/working'\n",
        "KAGGLE_SYMLINK='kaggle'\n",
        "\n",
        "!umount /kaggle/input/ 2> /dev/null\n",
        "shutil.rmtree('/kaggle/input', ignore_errors=True)\n",
        "os.makedirs(KAGGLE_INPUT_PATH, 0o777, exist_ok=True)\n",
        "os.makedirs(KAGGLE_WORKING_PATH, 0o777, exist_ok=True)\n",
        "\n",
        "try:\n",
        "  os.symlink(KAGGLE_INPUT_PATH, os.path.join(\"..\", 'input'), target_is_directory=True)\n",
        "except FileExistsError:\n",
        "  pass\n",
        "try:\n",
        "  os.symlink(KAGGLE_WORKING_PATH, os.path.join(\"..\", 'working'), target_is_directory=True)\n",
        "except FileExistsError:\n",
        "  pass\n",
        "\n",
        "for data_source_mapping in DATA_SOURCE_MAPPING.split(','):\n",
        "    directory, download_url_encoded = data_source_mapping.split(':')\n",
        "    download_url = unquote(download_url_encoded)\n",
        "    filename = urlparse(download_url).path\n",
        "    destination_path = os.path.join(KAGGLE_INPUT_PATH, directory)\n",
        "    try:\n",
        "        with urlopen(download_url) as fileres, NamedTemporaryFile() as tfile:\n",
        "            total_length = fileres.headers['content-length']\n",
        "            print(f'Downloading {directory}, {total_length} bytes compressed')\n",
        "            dl = 0\n",
        "            data = fileres.read(CHUNK_SIZE)\n",
        "            while len(data) > 0:\n",
        "                dl += len(data)\n",
        "                tfile.write(data)\n",
        "                done = int(50 * dl / int(total_length))\n",
        "                sys.stdout.write(f\"\\r[{'=' * done}{' ' * (50-done)}] {dl} bytes downloaded\")\n",
        "                sys.stdout.flush()\n",
        "                data = fileres.read(CHUNK_SIZE)\n",
        "            if filename.endswith('.zip'):\n",
        "              with ZipFile(tfile) as zfile:\n",
        "                zfile.extractall(destination_path)\n",
        "            else:\n",
        "              with tarfile.open(tfile.name) as tarfile:\n",
        "                tarfile.extractall(destination_path)\n",
        "            print(f'\\nDownloaded and uncompressed: {directory}')\n",
        "    except HTTPError as e:\n",
        "        print(f'Failed to load (likely expired) {download_url} to path {destination_path}')\n",
        "        continue\n",
        "    except OSError as e:\n",
        "        print(f'Failed to load {download_url} to path {destination_path}')\n",
        "        continue\n",
        "\n",
        "print('Data source import complete.')\n"
      ],
      "metadata": {
        "id": "9exHPvz0sD3C"
      },
      "cell_type": "code",
      "outputs": [],
      "execution_count": null
    },
    {
      "cell_type": "code",
      "source": [
        "# This Python 3 environment comes with many helpful analytics libraries installed\n",
        "# It is defined by the kaggle/python Docker image: https://github.com/kaggle/docker-python\n",
        "# For example, here's several helpful packages to load\n",
        "\n",
        "import numpy as np # linear algebra\n",
        "import pandas as pd # data processing, CSV file I/O (e.g. pd.read_csv)\n",
        "\n",
        "# Input data files are available in the read-only \"../input/\" directory\n",
        "# For example, running this (by clicking run or pressing Shift+Enter) will list all files under the input directory\n",
        "\n",
        "import os\n",
        "for dirname, _, filenames in os.walk('/kaggle/input'):\n",
        "    for filename in filenames:\n",
        "        print(os.path.join(dirname, filename))\n",
        "\n",
        "# You can write up to 20GB to the current directory (/kaggle/working/) that gets preserved as output when you create a version using \"Save & Run All\"\n",
        "# You can also write temporary files to /kaggle/temp/, but they won't be saved outside of the current session"
      ],
      "metadata": {
        "_uuid": "8f2839f25d086af736a60e9eeb907d3b93b6e0e5",
        "_cell_guid": "b1076dfc-b9ad-4769-8c92-a6c4dae69d19",
        "execution": {
          "iopub.status.busy": "2024-04-12T18:01:06.174948Z",
          "iopub.execute_input": "2024-04-12T18:01:06.175366Z",
          "iopub.status.idle": "2024-04-12T18:01:06.184429Z",
          "shell.execute_reply.started": "2024-04-12T18:01:06.175335Z",
          "shell.execute_reply": "2024-04-12T18:01:06.183082Z"
        },
        "trusted": true,
        "id": "9ptwzsQRsD3D"
      },
      "execution_count": null,
      "outputs": []
    },
    {
      "cell_type": "code",
      "source": [
        "df1 = pd.read_csv('/kaggle/input/who-is-the-real-winner/train.csv')\n",
        "df2 = pd.read_csv('/kaggle/input/who-is-the-real-winner/test.csv')\n",
        "submission = pd.DataFrame(columns=['ID','Education'])\n",
        "submission['ID']  = df2['ID']\n",
        "df1"
      ],
      "metadata": {
        "execution": {
          "iopub.status.busy": "2024-04-12T18:09:46.790615Z",
          "iopub.execute_input": "2024-04-12T18:09:46.791014Z",
          "iopub.status.idle": "2024-04-12T18:09:46.829538Z",
          "shell.execute_reply.started": "2024-04-12T18:09:46.790966Z",
          "shell.execute_reply": "2024-04-12T18:09:46.828515Z"
        },
        "trusted": true,
        "id": "d37E3q4lsD3D"
      },
      "execution_count": null,
      "outputs": []
    },
    {
      "cell_type": "code",
      "source": [
        "features=['Party','Criminal Case','state']\n",
        "X = df1[features]\n",
        "y = df1.Education\n",
        "from sklearn.preprocessing import LabelEncoder\n",
        "label_encoder = LabelEncoder()\n",
        "y = label_encoder.fit_transform(y)\n",
        "for i in X.columns:\n",
        "    if X[i].dtype=='object':\n",
        "        X[i] = label_encoder.fit_transform(X[i])"
      ],
      "metadata": {
        "execution": {
          "iopub.status.busy": "2024-04-12T18:10:54.374132Z",
          "iopub.execute_input": "2024-04-12T18:10:54.374485Z",
          "iopub.status.idle": "2024-04-12T18:10:54.384581Z",
          "shell.execute_reply.started": "2024-04-12T18:10:54.374459Z",
          "shell.execute_reply": "2024-04-12T18:10:54.383822Z"
        },
        "trusted": true,
        "id": "IZTisdzCsD3D"
      },
      "execution_count": null,
      "outputs": []
    },
    {
      "cell_type": "code",
      "source": [
        "from sklearn.ensemble import RandomForestClassifier\n",
        "newmodel = RandomForestClassifier(random_state=50)\n",
        "newmodel.fit(X,y)"
      ],
      "metadata": {
        "execution": {
          "iopub.status.busy": "2024-04-12T18:15:34.711086Z",
          "iopub.execute_input": "2024-04-12T18:15:34.711469Z",
          "iopub.status.idle": "2024-04-12T18:15:35.020916Z",
          "shell.execute_reply.started": "2024-04-12T18:15:34.711441Z",
          "shell.execute_reply": "2024-04-12T18:15:35.019797Z"
        },
        "trusted": true,
        "id": "ZczZfKDvsD3D"
      },
      "execution_count": null,
      "outputs": []
    },
    {
      "cell_type": "markdown",
      "source": [],
      "metadata": {
        "id": "PgsPJwU8sD3D"
      }
    },
    {
      "cell_type": "code",
      "source": [
        "df2"
      ],
      "metadata": {
        "execution": {
          "iopub.status.busy": "2024-04-12T18:11:36.703351Z",
          "iopub.execute_input": "2024-04-12T18:11:36.704192Z",
          "iopub.status.idle": "2024-04-12T18:11:36.718489Z",
          "shell.execute_reply.started": "2024-04-12T18:11:36.704159Z",
          "shell.execute_reply": "2024-04-12T18:11:36.717329Z"
        },
        "trusted": true,
        "id": "BYV2JwqesD3E"
      },
      "execution_count": null,
      "outputs": []
    },
    {
      "cell_type": "code",
      "source": [
        "df2.drop('ID',axis=1,inplace=True)\n",
        "df2.drop('Candidate',axis=1,inplace=True)\n",
        "df2.drop('Constituency ∇',axis=1,inplace=True)\n",
        "df2.drop('Liabilities',axis=1,inplace=True)\n",
        "df2.drop('Total Assets',axis=1,inplace=True)\n",
        "\n"
      ],
      "metadata": {
        "execution": {
          "iopub.status.busy": "2024-04-12T18:12:42.925156Z",
          "iopub.execute_input": "2024-04-12T18:12:42.925551Z",
          "iopub.status.idle": "2024-04-12T18:12:42.935279Z",
          "shell.execute_reply.started": "2024-04-12T18:12:42.925523Z",
          "shell.execute_reply": "2024-04-12T18:12:42.934276Z"
        },
        "trusted": true,
        "id": "jeokEC3IsD3E"
      },
      "execution_count": null,
      "outputs": []
    },
    {
      "cell_type": "code",
      "source": [
        "label_encoder = LabelEncoder()\n",
        "y = label_encoder.fit_transform(y)\n",
        "for i in df2.columns:\n",
        "    if df2[i].dtype=='object':\n",
        "        df2[i] = label_encoder.fit_transform(df2[i])\n",
        "df2"
      ],
      "metadata": {
        "execution": {
          "iopub.status.busy": "2024-04-12T18:12:45.88938Z",
          "iopub.execute_input": "2024-04-12T18:12:45.889742Z",
          "iopub.status.idle": "2024-04-12T18:12:45.903518Z",
          "shell.execute_reply.started": "2024-04-12T18:12:45.889717Z",
          "shell.execute_reply": "2024-04-12T18:12:45.902443Z"
        },
        "trusted": true,
        "id": "R713QYS0sD3E"
      },
      "execution_count": null,
      "outputs": []
    },
    {
      "cell_type": "code",
      "source": [
        "predictions = newmodel.predict(df2)\n",
        "label_encoder = LabelEncoder()\n",
        "y = label_encoder.fit_transform(df1.Education)\n",
        "submission['Education'] = label_encoder.inverse_transform(predictions)\n",
        "submission"
      ],
      "metadata": {
        "execution": {
          "iopub.status.busy": "2024-04-12T18:12:48.627051Z",
          "iopub.execute_input": "2024-04-12T18:12:48.627435Z",
          "iopub.status.idle": "2024-04-12T18:12:48.672905Z",
          "shell.execute_reply.started": "2024-04-12T18:12:48.627407Z",
          "shell.execute_reply": "2024-04-12T18:12:48.671709Z"
        },
        "trusted": true,
        "id": "Zp626cJMsD3E"
      },
      "execution_count": null,
      "outputs": []
    },
    {
      "cell_type": "code",
      "source": [
        "submission.to_csv('/kaggle/working/submission.csv',index=False)"
      ],
      "metadata": {
        "execution": {
          "iopub.status.busy": "2024-04-12T18:12:51.738872Z",
          "iopub.execute_input": "2024-04-12T18:12:51.73928Z",
          "iopub.status.idle": "2024-04-12T18:12:51.748623Z",
          "shell.execute_reply.started": "2024-04-12T18:12:51.739247Z",
          "shell.execute_reply": "2024-04-12T18:12:51.747312Z"
        },
        "trusted": true,
        "id": "OLpXaW6usD3E"
      },
      "execution_count": null,
      "outputs": []
    }
  ]
}